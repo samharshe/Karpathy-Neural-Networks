{
 "cells": [
  {
   "cell_type": "markdown",
   "metadata": {},
   "source": [
    "# Let's build GPT: from scratch, in code, spelled out.\n",
    "### https://www.youtube.com/watch?v=kCc8FmEb1nY\n",
    "I’m not sure whether this will be a worthwhile project, but it seems worth a shot. I’ve maybe been doing too much theory recently so it will be good to build something."
   ]
  }
 ],
 "metadata": {
  "language_info": {
   "name": "python"
  }
 },
 "nbformat": 4,
 "nbformat_minor": 2
}
