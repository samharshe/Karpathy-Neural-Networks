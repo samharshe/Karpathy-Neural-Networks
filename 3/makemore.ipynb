{
 "cells": [
  {
   "cell_type": "markdown",
   "metadata": {},
   "source": [
    "# [Building Makemore, Part III: Activations, Gradients, & BatchNorm](https://www.youtube.com/watch?v=P6sfmUTpUmc)"
   ]
  },
  {
   "cell_type": "code",
   "execution_count": 1,
   "metadata": {},
   "outputs": [],
   "source": [
    "# import basics\n",
    "import torch\n",
    "import torch.nn.functional as F\n",
    "import matplotlib.pyplot as plt\n",
    "%matplotlib inline"
   ]
  },
  {
   "cell_type": "code",
   "execution_count": 2,
   "metadata": {},
   "outputs": [],
   "source": [
    "# create words array\n",
    "words = open('names.txt','r').read().splitlines()"
   ]
  },
  {
   "cell_type": "code",
   "execution_count": 3,
   "metadata": {},
   "outputs": [],
   "source": [
    "# build dicts\n",
    "chars = sorted(list(set(''.join(words))))\n",
    "stoi = {s:i+1 for i, s in enumerate(chars)}\n",
    "stoi['.'] = 0\n",
    "itos = {i:s for s, i in stoi.items()}\n",
    "vocab_size = len(itos)"
   ]
  },
  {
   "cell_type": "code",
   "execution_count": 4,
   "metadata": {},
   "outputs": [],
   "source": [
    "# build dataset\n",
    "block_size = 3\n",
    "\n",
    "def build_dataset(words):\n",
    "    X, Y = [], []\n",
    "    \n",
    "    for w in words:\n",
    "        context = [0] * block_size\n",
    "        for ch in w + '.':\n",
    "            ix = stoi[ch]\n",
    "            X.append(context)\n",
    "            Y.append(ix)\n",
    "            \n",
    "            context = context[1:] + [ix]\n",
    "    \n",
    "    X = torch.tensor(X)\n",
    "    Y = torch.tensor(Y)\n",
    "    return X, Y"
   ]
  },
  {
   "cell_type": "code",
   "execution_count": 5,
   "metadata": {},
   "outputs": [],
   "source": [
    "# create train, validation, test sets\n",
    "import random\n",
    "random.shuffle(words)\n",
    "\n",
    "n1 = int(0.8*len(words))\n",
    "n2 = int(0.9*len(words))\n",
    "\n",
    "Xtr, Ytr = build_dataset(words[:n1]) # traaining\n",
    "Xdv, Ydv = build_dataset(words[n1:n2]) # validation\n",
    "Xts, Yts = build_dataset(words[n2:]) # test"
   ]
  },
  {
   "cell_type": "code",
   "execution_count": 61,
   "metadata": {},
   "outputs": [],
   "source": [
    "# cleaner MLP\n",
    "# hyperparameters\n",
    "n_embed = 10\n",
    "n_hidden = 200\n",
    "\n",
    "# create parameter tensors\n",
    "C = torch.randn((vocab_size, n_embed))\n",
    "W1 = torch.randn((n_embed * block_size, n_hidden)) * (5/3) / (n_embed*block_size)**.5 # 5/3 because we use tanh and $\\sqrt{n_embed*block_size} for the fan in\n",
    "# b1 = torch.randn(n_hidden) * 0.01 we end up using a bias for the layer as a whole\n",
    "W2 = torch.randn((n_hidden, vocab_size)) * 0.01\n",
    "b2 = torch.randn(vocab_size) * 0\n",
    "\n",
    "b_n_gain = torch.ones((1, n_hidden))\n",
    "b_n_bias = torch.zeros((1, n_hidden))\n",
    "b_n_mean_running = torch.zeros((1, n_hidden))\n",
    "b_n_std_running = torch.ones((1, n_hidden))\n",
    "\n",
    "# require_grad on all\n",
    "parameters = [C, W1, W2, b2, b_n_gain, b_n_bias]\n",
    "for p in parameters:\n",
    "    p.requires_grad = True"
   ]
  },
  {
   "cell_type": "code",
   "execution_count": 62,
   "metadata": {},
   "outputs": [
    {
     "name": "stdout",
     "output_type": "stream",
     "text": [
      "      0/  20000: 3.2881\n",
      "   1000/  20000: 2.5778\n",
      "   2000/  20000: 2.4284\n",
      "   3000/  20000: 2.4159\n",
      "   4000/  20000: 2.0846\n",
      "   5000/  20000: 1.9615\n",
      "   6000/  20000: 2.2179\n",
      "   7000/  20000: 2.2058\n",
      "   8000/  20000: 2.4432\n",
      "   9000/  20000: 2.0212\n",
      "  10000/  20000: 2.6387\n",
      "  11000/  20000: 2.0833\n",
      "  12000/  20000: 2.4406\n",
      "  13000/  20000: 2.1330\n",
      "  14000/  20000: 2.1533\n",
      "  15000/  20000: 2.1912\n",
      "  16000/  20000: 2.2662\n",
      "  17000/  20000: 2.4015\n",
      "  18000/  20000: 1.9788\n",
      "  19000/  20000: 2.1736\n"
     ]
    }
   ],
   "source": [
    "# optimization\n",
    "# hyperparameters\n",
    "n_steps = 20000\n",
    "batch_size = 32\n",
    "lossi = []\n",
    "\n",
    "for i in range(n_steps):\n",
    "    # minibatch\n",
    "    ix = torch.randint(0, Xtr.shape[0], (batch_size,))\n",
    "    Xb, Yb = Xtr[ix], Ytr[ix]\n",
    "    \n",
    "    # forward\n",
    "    emb = C[Xb]\n",
    "    emb_cat = emb.view(emb.shape[0], -1)\n",
    "    h_preact = emb_cat @ W1\n",
    "    b_n_mean_i = h_preact.mean(0, keepdim=True)\n",
    "    b_n_std_i = h_preact.std(0, keepdim=True)\n",
    "    h_preact = b_n_gain * (h_preact - b_n_mean_i) / b_n_std_i + b_n_bias # batch normalization\n",
    "    h = torch.tanh(h_preact) \n",
    "    logits = h @ W2 + b2 # output of the network\n",
    "    loss = F.cross_entropy(logits, Yb) # calc loss\n",
    "    \n",
    "    with torch.no_grad():\n",
    "        b_n_mean_running = 0.999 * b_n_mean_running + 0.001 * b_n_mean_i \n",
    "        b_n_std_running = 0.999 * b_n_std_running + 0.001 * b_n_std_i \n",
    "    \n",
    "    # backward \n",
    "    for p in parameters:\n",
    "        p.grad = None\n",
    "    loss.backward()\n",
    "    \n",
    "    # update\n",
    "    lr = 0.1 if i < n_steps / 2 else 0.01\n",
    "    for p in parameters:\n",
    "        p.data += lr * -p.grad\n",
    "        \n",
    "    if i % 1000 == 0:\n",
    "        print(f'{i:7d}/{n_steps:7d}: {loss.item():.4f}')\n",
    "    lossi.append(loss.log10().item())"
   ]
  },
  {
   "cell_type": "code",
   "execution_count": 66,
   "metadata": {},
   "outputs": [
    {
     "name": "stdout",
     "output_type": "stream",
     "text": [
      "val 2.874155282974243\n",
      "test 2.868072271347046\n"
     ]
    }
   ],
   "source": [
    "@torch.no_grad() # apparently this tells torch we won't be using gradients so it doesn't need to keep track of them here\n",
    "def split_loss(split):\n",
    "    x, y = {\n",
    "        'train': (Xtr, Ytr),\n",
    "        'val': (Xdv, Ydv),\n",
    "        'test': (Xts, Yts),\n",
    "    }[split] # this is gorgeous; I would not have thought of it\n",
    "    \n",
    "    emb = C[x]\n",
    "    emb_cat = emb.view(emb.shape[0], -1)\n",
    "    h_preact = emb_cat @ W1 + b1\n",
    "    h_preact = b_n_gain * (h_preact - b_n_mean_running) / b_n_std_running + b_n_bias\n",
    "    h = torch.tanh(emb_cat @ W1 + b1)\n",
    "    logits = h @ W2 + b2\n",
    "    loss = F.cross_entropy(logits, y)\n",
    "    print(split, loss.item())\n",
    "\n",
    "split_loss('val')\n",
    "split_loss('test')"
   ]
  },
  {
   "cell_type": "code",
   "execution_count": 65,
   "metadata": {},
   "outputs": [
    {
     "name": "stdout",
     "output_type": "stream",
     "text": [
      "sdha.\n",
      "jhashemmzibritdassnne.\n",
      "shmottdlylskhmaryn.\n",
      "zylenghgefnekres.\n",
      "branchlustsholst.\n",
      "jremtqngellam.\n",
      "brandlavghnzq.\n",
      "nambrckowynzerra.\n",
      "jrqbnzxwmazamerzikckprissemwenderzikbashzonlektwhkbeggiganetlaem.\n",
      "zakgengikhlltdwensshjobnakbohstinzhishbrttty.\n",
      "ghdzjenevulllen.\n",
      "dulylsvikketngissivmarmylennrqlknavinella.\n",
      "jrya.\n",
      "doeghaht.\n",
      "mizzistamashbenglowgwqrdinghvikrim.\n",
      "smaddmandravtygally.\n",
      "dymrqikeqrdentqeshcycnjitghighangliden.\n",
      "jhamtrbshbghmarghtrconnestnontzalss.\n",
      "hrhcarthmarvhmarmikdhyamirghsisstphambrhhidhbanna.\n",
      "kzimmed.\n"
     ]
    }
   ],
   "source": [
    "for _ in range(20):\n",
    "    out = []\n",
    "    context = [0] * block_size\n",
    "    \n",
    "    while True:\n",
    "        # forward pass\n",
    "        emb = C[torch.tensor([context])]\n",
    "        h = torch.tanh(emb.view(1,-1) @ W1 + b1)\n",
    "        logits = h @ W2 + b2\n",
    "        probs = F.softmax(logits,dim=1)\n",
    "         \n",
    "        # sample from output of neural net\n",
    "        ix = torch.multinomial(probs, num_samples=1).item()\n",
    "        \n",
    "        # shift context window\n",
    "        context = context[1:] + [ix]\n",
    "        out.append(ix)\n",
    "        \n",
    "        # leave if we predict '.'\n",
    "        if ix == 0:\n",
    "            break\n",
    "    \n",
    "    # print output\n",
    "    print(''.join(itos[i] for i in out))"
   ]
  },
  {
   "cell_type": "markdown",
   "metadata": {},
   "source": [
    "modern innovations (that we will learn about soon!) make it less important than before to ensure the NN is properly initialized."
   ]
  }
 ],
 "metadata": {
  "kernelspec": {
   "display_name": "Basic",
   "language": "python",
   "name": "python3"
  },
  "language_info": {
   "codemirror_mode": {
    "name": "ipython",
    "version": 3
   },
   "file_extension": ".py",
   "mimetype": "text/x-python",
   "name": "python",
   "nbconvert_exporter": "python",
   "pygments_lexer": "ipython3",
   "version": "3.11.5"
  }
 },
 "nbformat": 4,
 "nbformat_minor": 2
}
